{
 "cells": [
  {
   "cell_type": "code",
   "execution_count": null,
   "metadata": {},
   "outputs": [],
   "source": [
    "import pandas as pd\n",
    "df1 = pd.read_csv(\"C:/Users/YGB/★신한카드/Kgu_2005.txt\", sep=';', encoding='CP949')\n",
    "df1"
   ]
  },
  {
   "cell_type": "code",
   "execution_count": null,
   "metadata": {},
   "outputs": [],
   "source": [
    "for i in range(len(df1)):\n",
    "    if df1.USE_AMT[i][0]=='E':\n",
    "        df1.USE_AMT[i]=0\n",
    "    else:\n",
    "        for j in range(12):\n",
    "            if df1.USE_AMT[i][j]=='A':\n",
    "                df1.USE_AMT[i]=df1.USE_AMT[i].replace('A','1')\n",
    "            elif df1.USE_AMT[i][j]=='B':\n",
    "                df1.USE_AMT[i]=df1.USE_AMT[i].replace('B','2')\n",
    "            elif df1.USE_AMT[i][j]=='C':\n",
    "                df1.USE_AMT[i]=df1.USE_AMT[i].replace('C','3')\n",
    "            elif df1.USE_AMT[i][j]=='D':\n",
    "                df1.USE_AMT[i]=df1.USE_AMT[i].replace('D','4')\n",
    "            elif df1.USE_AMT[i][j]=='E':\n",
    "                df1.USE_AMT[i]=df1.USE_AMT[i].replace('E','5')\n",
    "            elif df1.USE_AMT[i][j]=='F':\n",
    "                df1.USE_AMT[i]=df1.USE_AMT[i].replace('F','6')\n",
    "            elif df1.USE_AMT[i][j]=='G':\n",
    "                df1.USE_AMT[i]=df1.USE_AMT[i].replace('G','7')\n",
    "            elif df1.USE_AMT[i][j]=='H':\n",
    "                df1.USE_AMT[i]=df1.USE_AMT[i].replace('H','8')\n",
    "            elif df1.USE_AMT[i][j]=='I':\n",
    "                df1.USE_AMT[i]=df1.USE_AMT[i].replace('I','9')\n",
    "            elif df1.USE_AMT[i][j]=='J':\n",
    "                df1.USE_AMT[i]=df1.USE_AMT[i].replace('J','0')\n",
    "            elif df1.USE_AMT[i][j]=='P':\n",
    "                df1.USE_AMT[i]=df1.USE_AMT[i].replace('P',' ')\n",
    "            elif df1.USE_AMT[i][j]=='N':\n",
    "                df1.USE_AMT[i]=df1.USE_AMT[i].replace('N','-')\n",
    "    print(i)\n"
   ]
  },
  {
   "cell_type": "code",
   "execution_count": null,
   "metadata": {},
   "outputs": [],
   "source": [
    "\n",
    "for i in range(len(df1)):\n",
    "    if df1.USE_AMT[i]==0:\n",
    "        pass\n",
    "    else:\n",
    "        for j in range(12):\n",
    "            if df1.USE_AMT[i][j]=='Z':\n",
    "                df1.USE_AMT[i]=df1.USE_AMT[i].replace('Z',' ')\n",
    "            df1.USE_AMT[i]=df1.USE_AMT[i].replace(' ','')\n",
    "                print(df1.USE_AMT[i])    "
   ]
  }
 ],
 "metadata": {
  "kernelspec": {
   "display_name": "Python 3",
   "language": "python",
   "name": "python3"
  },
  "language_info": {
   "codemirror_mode": {
    "name": "ipython",
    "version": 3
   },
   "file_extension": ".py",
   "mimetype": "text/x-python",
   "name": "python",
   "nbconvert_exporter": "python",
   "pygments_lexer": "ipython3",
   "version": "3.8.3"
  }
 },
 "nbformat": 4,
 "nbformat_minor": 4
}
